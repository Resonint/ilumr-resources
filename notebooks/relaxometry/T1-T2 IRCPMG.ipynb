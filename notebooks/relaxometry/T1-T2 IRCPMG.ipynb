{
 "cells": [
  {
   "cell_type": "code",
   "execution_count": null,
   "id": "1ca02b18-c7a4-42bc-b91b-65d851b46568",
   "metadata": {
    "tags": []
   },
   "outputs": [],
   "source": [
    "LAB_USER_NAME = 'REPLACE_ME'"
   ]
  },
  {
   "cell_type": "code",
   "execution_count": null,
   "id": "54b426a0-5672-4ec2-9001-202564b2fa20",
   "metadata": {
    "tags": []
   },
   "outputs": [],
   "source": [
    "import panel as pn\n",
    "import sys\n",
    "import os\n",
    "import yaml\n",
    "import numpy as np\n",
    "from bokeh.palettes import Viridis\n",
    "import asyncio\n",
    "\n",
    "from matipo import Sequence, SEQUENCE_DIR, GLOBALS_DIR, DATA_DIR, Unit\n",
    "from matipo.util.decimation import decimate\n",
    "from matipo.util.fft import fft_reconstruction\n",
    "from matipo.util.etl import deinterlace\n",
    "from matipo.util import ilt\n",
    "\n",
    "from matipo.experiment.base_experiment import BaseExperiment, auto_inputs, PlotInterface\n",
    "from matipo.experiment.models import PLOT_COLORS, SITickFormatter, SIHoverFormatter\n",
    "from matipo.experiment.plots import SignalPlot, SpectrumPlot, ImagePlot, Image1DPlot, ComplexDataLinePlot\n",
    "\n",
    "pn.extension()\n",
    "\n",
    "WORKSPACE = os.path.join(LAB_USER_NAME, 'IRCPMG Map')\n",
    "LAB_DIR = os.path.join(DATA_DIR, WORKSPACE)\n",
    "os.makedirs(LAB_DIR, exist_ok=True)\n",
    "print('Data will be saved to', LAB_DIR)"
   ]
  },
  {
   "cell_type": "code",
   "execution_count": null,
   "id": "9f8746d5-274a-4769-a751-328620a657e4",
   "metadata": {
    "tags": []
   },
   "outputs": [],
   "source": [
    "from loglogmap_plot import LogLogMapPlot"
   ]
  },
  {
   "cell_type": "code",
   "execution_count": null,
   "id": "5ac56286-b8d5-409b-bdd9-76b536e12769",
   "metadata": {
    "tags": []
   },
   "outputs": [],
   "source": [
    "class T1_T2_IRCPMG(BaseExperiment):\n",
    "    \n",
    "    def setup(self):\n",
    "        self.enable_partialplot = True\n",
    "        self.title = \"T1-T2 IRCPMG Experiment\"\n",
    "        self.workspace = WORKSPACE\n",
    "        self.seq = Sequence(SEQUENCE_DIR+'IRCPMG.py')\n",
    "        self.plots = {\n",
    "            'map': LogLogMapPlot(\n",
    "                interpolate=10,\n",
    "                figure_opts = dict(\n",
    "                            title=\"T1-T2 Map\",\n",
    "                            x_axis_label=\"T2 (s)\",\n",
    "                            y_axis_label=\"T1 (s)\",\n",
    "                )),\n",
    "            'recovery': ComplexDataLinePlot(\n",
    "                figure_opts = dict(\n",
    "                        title=\"T1 Inversion Recovery\",\n",
    "                        x_axis_label=\"Time (s)\",\n",
    "                        y_axis_label=\"Amplitude\")),\n",
    "            'decay': ComplexDataLinePlot(\n",
    "                figure_opts = dict(\n",
    "                            title=\"T2 decay\",\n",
    "                            x_axis_label=\"Time (s)\",\n",
    "                            y_axis_label=\"Amplitude\"))\n",
    "        }\n",
    "\n",
    "        self.inputs = auto_inputs(self.seq, {\n",
    "            'n_scans': 2,\n",
    "            't_end': 1*Unit('s'),\n",
    "            'n_inv': 10,\n",
    "            't_inv_min': 2e-4*Unit('s'),\n",
    "            't_inv_max': 2*Unit('s'),\n",
    "            't_echo': 200*Unit('us'),\n",
    "            'n_echo': 5000,\n",
    "            'n_samples': 16,\n",
    "            't_dw': 4*Unit('us')\n",
    "        })        \n",
    "        \n",
    "    def update_par(self):\n",
    "        self.seq.setpar(\n",
    "            t_inv=np.logspace(np.log10(self.inputs['t_inv_min'].value), np.log10(self.inputs['t_inv_max'].value), self.inputs['n_inv'].value))\n",
    "     \n",
    "        \n",
    "    async def update_plots(self, final):\n",
    "        await self.seq.fetch_data()\n",
    "        \n",
    "        n_inv = len(self.seq.par.t_inv)\n",
    "        data = self.seq.data\n",
    "        \n",
    "        # average the echos to get the integrated echo decay curve\n",
    "        y = np.reshape(np.mean(np.reshape(data,(-1, self.seq.par.n_samples)),axis=1),(-1, self.seq.par.n_echo))\n",
    "        \n",
    "        # correct phase assuming smallest inversion time has a phase of 180\n",
    "        phase = np.angle(np.mean(y[0, :2]))\n",
    "        y *= -np.exp(1j*-phase)\n",
    "        \n",
    "        # make time axes\n",
    "        t_T2 = np.linspace(0, self.seq.par.n_echo*self.seq.par.t_echo, self.seq.par.n_echo)\n",
    "        t_T1 = self.seq.par.t_inv[:n_inv]\n",
    "        \n",
    "        self.plots['recovery'].update(t_T1[:self.progress.value], np.mean(y[:self.progress.value, :2], axis=1))\n",
    "        self.plots['decay'].update(t_T2, y[self.progress.value-1])\n",
    "        self.log.debug(f'self.progress.value: {self.progress.value}')\n",
    "        \n",
    "        if final:\n",
    "            self.log.info('Running Inverse Laplace Transform (~1 min)...')\n",
    "            # Run Inverse Laplace Transform\n",
    "            n_T1 = 50\n",
    "            n_T2 = 50\n",
    "            alpha = 1\n",
    "            self.T1 = np.logspace(-3,1,n_T1)\n",
    "            self.T2 = np.logspace(-3,1,n_T2)\n",
    "            self.S = ilt.IRCPMG_T1T2_spectrum(self.T1, self.T2, self.seq.par.t_inv, t_T2, y, alpha, tol=1e-5, progress=1000)\n",
    "\n",
    "            self.plots['map'].update(self.S, self.T2[0], self.T2[-1], self.T1[0], self.T1[-1])\n",
    "\n",
    "\n",
    "ircpmgExp = T1_T2_IRCPMG(state_id='ircpmg')\n",
    "# ircpmgExp.log.setLevel('DEBUG')\n",
    "ircpmgExp()"
   ]
  },
  {
   "cell_type": "code",
   "execution_count": null,
   "id": "6165d610-3bd4-4d3c-ba0e-140f3d5d1311",
   "metadata": {},
   "outputs": [],
   "source": []
  }
 ],
 "metadata": {
  "kernelspec": {
   "display_name": "Python 3 (ipykernel)",
   "language": "python",
   "name": "python3"
  },
  "language_info": {
   "codemirror_mode": {
    "name": "ipython",
    "version": 3
   },
   "file_extension": ".py",
   "mimetype": "text/x-python",
   "name": "python",
   "nbconvert_exporter": "python",
   "pygments_lexer": "ipython3",
   "version": "3.10.12"
  }
 },
 "nbformat": 4,
 "nbformat_minor": 5
}

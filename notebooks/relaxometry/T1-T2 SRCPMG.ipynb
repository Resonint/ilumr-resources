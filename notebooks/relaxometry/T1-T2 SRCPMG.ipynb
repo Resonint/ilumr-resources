{
 "cells": [
  {
   "cell_type": "markdown",
   "id": "22c7d87b-2e59-474c-83e9-18d02b3a898e",
   "metadata": {},
   "source": [
    "# T1-T2 Saturation Recovery CPMG Notebook\n",
    "\n",
    "#### Setup\n",
    "Edit the cell below to set the `LAB_USER_NAME` variable to your name then click **Run->Run All Cells** in the top menu bar of jupyterlab. The data from your experiments will be saved into a folder using your user name."
   ]
  },
  {
   "cell_type": "code",
   "execution_count": null,
   "id": "1ca02b18-c7a4-42bc-b91b-65d851b46568",
   "metadata": {
    "tags": []
   },
   "outputs": [],
   "source": [
    "LAB_USER_NAME = 'REPLACE_ME'"
   ]
  },
  {
   "cell_type": "code",
   "execution_count": null,
   "id": "54b426a0-5672-4ec2-9001-202564b2fa20",
   "metadata": {
    "jupyter": {
     "source_hidden": true
    },
    "tags": []
   },
   "outputs": [],
   "source": [
    "import panel as pn\n",
    "import sys\n",
    "import os\n",
    "import yaml\n",
    "import numpy as np\n",
    "from bokeh.palettes import Viridis\n",
    "import asyncio\n",
    "\n",
    "from matipo import Sequence, SEQUENCE_DIR, GLOBALS_DIR, DATA_DIR, Unit\n",
    "from matipo.util.decimation import decimate\n",
    "from matipo.util.fft import fft_reconstruction\n",
    "from matipo.util.etl import deinterlace\n",
    "from matipo.util import ilt\n",
    "\n",
    "from matipo.experiment.base_experiment import BaseExperiment, auto_inputs, PlotInterface\n",
    "from matipo.experiment.models import PLOT_COLORS, SITickFormatter, SIHoverFormatter\n",
    "from matipo.experiment.plots import SignalPlot, SpectrumPlot, ImagePlot, Image1DPlot, ComplexDataLinePlot\n",
    "\n",
    "from loglogmap_plot import LogLogMapPlot\n",
    "from ilt_SRCPMG import SRCPMG_T1T2_spectrum\n",
    "\n",
    "pn.extension()\n",
    "\n",
    "WORKSPACE = os.path.join(LAB_USER_NAME, 'SRCPMG_Map')\n",
    "LAB_DIR = os.path.join(DATA_DIR, WORKSPACE)\n",
    "os.makedirs(LAB_DIR, exist_ok=True)\n",
    "print('Data will be saved to', LAB_DIR)"
   ]
  },
  {
   "cell_type": "markdown",
   "id": "a6045095-afe6-462a-93f2-6ae02773a0fa",
   "metadata": {},
   "source": [
    "##### SRCPMG Pulse Sequence\n",
    "(90 pulse | `t_sat_i`) for `t_sat_i` in `t_sat` | `t_rec` | 90 pulse | `t_echo/2` | (180 pulse | `t_echo`) * `n_echo` | `t_end`\n",
    "\n",
    "Acquisitions are centred between 180 pulses. The saturation module (`t_sat`) is not adjustable via the GUI as it has been optimised for *ilumr*.\n",
    "\n",
    "##### Parameter Selection\n",
    "- **n_scans:** The number of times that the entire pulse sequence is repeated and the data averaged together. This should be an even number for optimal phase cycling. \n",
    "- **n_rec**:The number of recovery times used in the pulse sequence.\n",
    "- **t_rec_min**, **t_rec_max**: The minimum and maximum recovery times used in the pulse sequence. The experiment will calculate `n_rec` recovery times between the selected `t_rec_min` and `t_rec_max` at log space intervals.\n",
    "- **t_echo:** The time from the excitation 90 pulse to the first echo, and spacing between the subsequent echos.\n",
    "- **n_echo:** The number of echos.\n",
    "- **n_samples:** The number of samples acquired per echo. These samples will be averaged together during data processing to get a single data point per echo. Recommended to use between 16 and 64 for a good tradeoff between the DSP group delay and post-processing time.\n",
    "- **t_dw:** The sample dwell time. Total sampling time (`n_samples * t_dw`) must be able to fit between the 180 pulses, i.e. `(n_samples * t_dw) + t_180 < t_echo`, otherwise the sampling will overlap with the 180 pulse and cause artifacts. The value of `t_180` can be found in `/home/globals/hardpulse_180.yaml`. \n",
    "\n",
    "\n",
    "##### Recommended Default Parameters\n",
    "n_scans=2, n_rec=10, t_rec_min=0.0002, t_rec_max=10, t_echo=200, n_echo=20000, n_samples=16, t_dw=8. "
   ]
  },
  {
   "cell_type": "code",
   "execution_count": null,
   "id": "5ac56286-b8d5-409b-bdd9-76b536e12769",
   "metadata": {
    "jupyter": {
     "source_hidden": true
    },
    "tags": []
   },
   "outputs": [],
   "source": [
    "class T1_T2_SRCPMG(BaseExperiment):\n",
    "    \n",
    "    def setup(self):\n",
    "        self.enable_partialplot = True\n",
    "        self.title = \"T1-T2 SRCPMG Experiment\"\n",
    "        self.workspace = WORKSPACE\n",
    "        self.seq = Sequence('SRCPMG.py')\n",
    "        self.plots = {\n",
    "            'map': LogLogMapPlot(\n",
    "                interpolate=10,\n",
    "                figure_opts = dict(\n",
    "                            title=\"T1-T2 Map\",\n",
    "                            x_axis_label=\"T2 (s)\",\n",
    "                            y_axis_label=\"T1 (s)\",\n",
    "                )),\n",
    "            'recovery': ComplexDataLinePlot(\n",
    "                figure_opts = dict(\n",
    "                        title=\"T1 Saturation Recovery\",\n",
    "                        x_axis_label=\"Time (s)\",\n",
    "                        y_axis_label=\"Amplitude\")),\n",
    "            'decay': ComplexDataLinePlot(\n",
    "                figure_opts = dict(\n",
    "                            title=\"T2 decay\",\n",
    "                            x_axis_label=\"Time (s)\",\n",
    "                            y_axis_label=\"Amplitude\"))\n",
    "        }\n",
    "\n",
    "        self.inputs = auto_inputs(self.seq, {\n",
    "            'n_scans': 2,\n",
    "            'n_rec': 10,\n",
    "            't_rec_min': 2e-4*Unit('s'),\n",
    "            't_rec_max': 2*Unit('s'),\n",
    "            't_echo': 200*Unit('us'),\n",
    "            'n_echo': 5000,\n",
    "            'n_samples': 16,\n",
    "            't_dw': 4*Unit('us')\n",
    "        })        \n",
    "        \n",
    "    def update_par(self):     \n",
    "        self.seq.setpar(\n",
    "            t_end=0.1, # don't need to wait for T1 recovery in saturation recovery type experiments, should still wait >>T2* to avoid coherence pathways\n",
    "            t_sat=5e-3*np.array([7, 5, 3, 2]), # pulse spacings should be larger than T2* and decreasing (recommended by literature)\n",
    "            t_rec=np.logspace(np.log10(self.inputs['t_rec_max'].value), np.log10(self.inputs['t_rec_min'].value), self.inputs['n_rec'].value) # measure using recovery times in decreasing order (recommended by literature)\n",
    "        )\n",
    "        \n",
    "    async def update_plots(self, final):\n",
    "        await self.seq.fetch_data()\n",
    "        \n",
    "        # average the echos to get the integrated echo decay curve\n",
    "        y = np.reshape(np.mean(np.reshape(self.seq.data,(-1, self.seq.par.n_samples)),axis=1),(-1, self.seq.par.n_echo))\n",
    "        \n",
    "        # correct phase assuming smallest inversion time has a phase of 180\n",
    "        phase = np.angle(np.mean(y[0, :2]))\n",
    "        y *= np.exp(1j*-phase)\n",
    "        \n",
    "        # make time axes\n",
    "        t_T2 = np.linspace(0, self.seq.par.n_echo*self.seq.par.t_echo, self.seq.par.n_echo)\n",
    "        t_T1 = self.seq.par.t_rec\n",
    "        \n",
    "        self.plots['recovery'].update(t_T1[:self.progress.value], np.mean(y[:self.progress.value, :2], axis=1))\n",
    "        self.plots['decay'].update(t_T2, y[self.progress.value-1])\n",
    "        self.log.debug(f'self.progress.value: {self.progress.value}')\n",
    "        \n",
    "        if final:\n",
    "            self.log.info('Running Inverse Laplace Transform (~1 min)...')\n",
    "            # Run Inverse Laplace Transform\n",
    "            n_T1 = 50\n",
    "            n_T2 = 50\n",
    "            alpha = 1\n",
    "            self.T1 = np.logspace(-3,1,n_T1)\n",
    "            self.T2 = np.logspace(-3,1,n_T2)\n",
    "            self.S = SRCPMG_T1T2_spectrum(self.T1, self.T2, t_T1, t_T2, y, alpha, tol=1e-5, progress=1000)\n",
    "\n",
    "            self.plots['map'].update(self.S, self.T2[0], self.T2[-1], self.T1[0], self.T1[-1])\n",
    "\n",
    "SRCPMGExp = T1_T2_SRCPMG(state_id='srcpmg')\n",
    "SRCPMGExp()"
   ]
  },
  {
   "cell_type": "code",
   "execution_count": null,
   "id": "cb18de5f-981c-4fba-829f-70c8f2b1211f",
   "metadata": {},
   "outputs": [],
   "source": []
  }
 ],
 "metadata": {
  "kernelspec": {
   "display_name": "Python 3 (ipykernel)",
   "language": "python",
   "name": "python3"
  },
  "language_info": {
   "codemirror_mode": {
    "name": "ipython",
    "version": 3
   },
   "file_extension": ".py",
   "mimetype": "text/x-python",
   "name": "python",
   "nbconvert_exporter": "python",
   "pygments_lexer": "ipython3",
   "version": "3.10.12"
  }
 },
 "nbformat": 4,
 "nbformat_minor": 5
}

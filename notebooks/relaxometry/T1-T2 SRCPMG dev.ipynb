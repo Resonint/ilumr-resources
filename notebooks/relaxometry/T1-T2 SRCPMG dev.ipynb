{
 "cells": [
  {
   "cell_type": "code",
   "execution_count": null,
   "metadata": {},
   "outputs": [],
   "source": [
    "from matipo import SEQUENCE_DIR, GLOBALS_DIR\n",
    "from matipo.sequence import Sequence\n",
    "from matipo.util import ilt\n",
    "import numpy as np\n",
    "import matplotlib.pyplot as plt\n",
    "from matplotlib import gridspec\n",
    "from matplotlib.colorbar import Colorbar\n",
    "from mpl_toolkits.axes_grid1 import make_axes_locatable\n",
    "from pathlib import Path\n",
    "\n",
    "# progress_handler for Sequence.run() that simply prints the progress\n",
    "def print_progress(p, l):\n",
    "    print(p, '/', l)\n",
    "\n",
    "# load SRCPMG pulse sequence from local directory\n",
    "seq = Sequence('./SRCPMG.py')"
   ]
  },
  {
   "cell_type": "markdown",
   "metadata": {
    "tags": []
   },
   "source": [
    "##### SRCPMG Pulse Sequence\n",
    "(90 pulse | `t_sat_i`) for `t_sat_i` in `t_sat` | `t_rec` | 90 pulse | `t_echo/2` | (180 pulse | `t_echo`) * `n_echo` | `t_end`\n",
    "\n",
    "The saturation module constists of `len(t_sat)+1` pulses, so `t_sat` must be of even length to produce an odd number of 90 pulses.\n",
    "\n",
    "From liturature, it's recommended that the values in `t_sat` are greater than the T2* of the magnet, and are non-regularly spaced with decreasing spacings.\n",
    "\n",
    "Measure long `t_rec` first and short `t_rec` last to achieve optimal saturation at short recovery times.\n",
    "\n",
    "Acquisitions are centred between 180 pulses."
   ]
  },
  {
   "cell_type": "code",
   "execution_count": null,
   "metadata": {},
   "outputs": [],
   "source": [
    "from matipo.util import flint\n",
    "\n",
    "# modified from IRCPMG_T1T2_spectrum() in ilt.py to use the saturation recovery kernel function for T1\n",
    "def SRCPMG_T1T2_spectrum(T1, T2, t_rec, t_echo, data, alpha=1, **kwargs):\n",
    "    \"\"\"\n",
    "    SRCPMG_T1T2_spectrum: Calculate T1-T2 spectrum from Saturation Recovery CPMG data\n",
    "    \n",
    "    Parameters\n",
    "    ----------\n",
    "    T1 : float array\n",
    "        T1 values for the output spectrum\n",
    "    T2 : float array\n",
    "        T2 values for the output spectrum\n",
    "    t_rec : float array\n",
    "        recovery times (seconds)\n",
    "    t_echo : float or float array\n",
    "        scalar echo spacing or array of echo times (seconds)\n",
    "    data : 2D float or complex float array\n",
    "        2D array of IRCPMG data, shape (number of inversion times, number of echos).\n",
    "        The real part after autophasing will be used if complex.\n",
    "    \"\"\"\n",
    "    \n",
    "    N1, N2 = data.shape\n",
    "    if len(t_rec) != N1:\n",
    "        raise Exception(f'size of t_rec ({len(t_rec)} must match axis 0 of data ({N1}))')\n",
    "    if np.isscalar(t_echo):\n",
    "        t_echo = np.linspace(0, N2*t_echo, N2, endpoint=False)\n",
    "    if len(t_echo) != N2:\n",
    "        raise Exception(f'size of t_echo ({len(t_echo)} must match axis 1 of data ({N2}))')\n",
    "    \n",
    "    if np.any(np.iscomplex(data)):\n",
    "        # autophase using first 2 points\n",
    "        phase = np.angle(np.mean(data[0][:2]))\n",
    "        y = np.real(data * np.exp(1j*-phase))\n",
    "    else:\n",
    "        y = data.copy()\n",
    "    \n",
    "    K1 = 1 - np.exp(-np.outer(t_rec,1/T1)) # T1 Saturation Recovery Kernel\n",
    "    K2 = np.exp(-np.outer(t_echo,1/T2)) # T2 Kernel\n",
    "    S, res = flint.flint(K1, K2, y, alpha, **kwargs)\n",
    "    return S"
   ]
  },
  {
   "cell_type": "code",
   "execution_count": null,
   "metadata": {},
   "outputs": [],
   "source": [
    "# set save directory and base file name\n",
    "SAVE_DIR = '/home/data/SRCPMG'\n",
    "SAVE_NAME = 'enter_name'\n",
    "\n",
    "# make the save directory if it doesn't exist\n",
    "Path(SAVE_DIR).mkdir(parents=True, exist_ok=True)"
   ]
  },
  {
   "cell_type": "code",
   "execution_count": null,
   "metadata": {},
   "outputs": [],
   "source": [
    "# load relevant global variables\n",
    "seq.loadpar(GLOBALS_DIR+'frequency.yaml')\n",
    "seq.loadpar(GLOBALS_DIR+'hardpulse_90.yaml')\n",
    "seq.loadpar(GLOBALS_DIR+'hardpulse_180.yaml')\n",
    "\n",
    "n_rec = 10\n",
    "t_rec_min = 10e-3\n",
    "t_rec_max = 100\n",
    "\n",
    "# set some parameters directly (SI units)\n",
    "seq.setpar(\n",
    "    n_scans=4,\n",
    "    n_echo=5000,\n",
    "    t_echo=200e-6,\n",
    "    n_samples=16,\n",
    "    t_dw=4e-6,\n",
    "    t_end=0.1, # don't need to wait for T1 recovery in saturation recovery type experiments, should still wait >>T2* to avoid coherence pathways\n",
    "    t_sat=5e-3*np.array([7, 5, 3, 2]), # pulse spacings should be larger than T2* and decreasing (recommended by literature)\n",
    "    t_rec=np.logspace(np.log10(t_rec_max), np.log10(t_rec_min), n_rec) # measure using recovery times in decreasing order (recommended by literature)\n",
    ")\n",
    "\n",
    "# print out the parameter set for reference\n",
    "print(seq.par)\n",
    "\n",
    "# run sequence, progress_handler is optional\n",
    "await seq.run(progress_handler=print_progress)\n",
    "\n",
    "# average the echos to get the integrated echo decay curve\n",
    "y = np.reshape(np.mean(np.reshape(seq.data, (-1, seq.par.n_samples)), axis=1), (-1, seq.par.n_echo))\n",
    "\n",
    "# correct phase assuming largest (first, using reverse order) recovery time has 0 phase\n",
    "phase = np.angle(np.mean(y[0][:2]))\n",
    "y *= np.exp(1j*-phase)\n",
    "\n",
    "# save 2D data array in numpy format\n",
    "np.save(f'{SAVE_DIR}/{SAVE_NAME}', y)\n",
    "seq.savepar(f'{SAVE_DIR}/{SAVE_NAME}.yaml')"
   ]
  },
  {
   "cell_type": "code",
   "execution_count": null,
   "metadata": {},
   "outputs": [],
   "source": [
    "# make time axes\n",
    "t_rec = seq.par.t_rec\n",
    "t_cpmg = np.linspace(0, seq.par.n_echo*seq.par.t_echo, seq.par.n_echo)"
   ]
  },
  {
   "cell_type": "code",
   "execution_count": null,
   "metadata": {},
   "outputs": [],
   "source": [
    "plt.figure(figsize=(10, 5), dpi=100)\n",
    "for i, t in enumerate(t_rec):\n",
    "    plt.plot(t_cpmg, y[i].real, label=f't_inv: {t:.2E} s')\n",
    "plt.ylabel('signal (V)')\n",
    "plt.xlabel('time (s)')\n",
    "plt.title('CPMG Decay')\n",
    "plt.legend(loc='upper right')\n",
    "plt.show()"
   ]
  },
  {
   "cell_type": "code",
   "execution_count": null,
   "metadata": {},
   "outputs": [],
   "source": [
    "# average first 2 points to get initial signal\n",
    "plt.figure(figsize=(10, 5), dpi=100)\n",
    "plt.semilogx(seq.par.t_rec, np.mean(y.real[:,:2], axis=1), label='real')\n",
    "plt.semilogx(seq.par.t_rec, np.mean(y.imag[:,:2], axis=1), label='imag')\n",
    "plt.ylabel('Initial Signal (V)')\n",
    "plt.xlabel('Recovery Time (s)')\n",
    "plt.title('Saturation Recovery')\n",
    "plt.legend(loc='upper left')\n",
    "plt.show()"
   ]
  },
  {
   "cell_type": "code",
   "execution_count": null,
   "metadata": {},
   "outputs": [],
   "source": [
    "# Run Inverse Laplace Transform\n",
    "n_T1 = 20\n",
    "n_T2 = 20\n",
    "alpha = 1\n",
    "T1 = np.logspace(-3,1,n_T1)\n",
    "T2 = np.logspace(-3,1,n_T2)\n",
    "# using larger tolerance to speed up calculation, for better results\n",
    "# transfer the data to a PC and run ILT with the default tolerance of 1e-5\n",
    "S = SRCPMG_T1T2_spectrum(T1, T2, t_rec, t_cpmg, y, alpha, tol=1e-3, progress=1000)\n",
    "\n",
    "# Plot the 2D T1-T2 map\n",
    "x_ = np.log10(T2)\n",
    "y_ = np.log10(T1)\n",
    "x_lim = (x_.min(), x_.max())\n",
    "y_lim = (y_.min(), y_.max())\n",
    "fig= plt.figure(figsize=(10,10), dpi=100)\n",
    "gs = gridspec.GridSpec(2, 2, width_ratios=[3,1], height_ratios=[1,3])\n",
    "ax = plt.subplot(gs[1,0])\n",
    "axr = plt.subplot(gs[1,1], sharey=ax)\n",
    "axt = plt.subplot(gs[0,0], sharex=ax)\n",
    "# main plot\n",
    "ax.imshow(S, origin='lower', extent=x_lim+y_lim, aspect='auto', cmap='gray', interpolation='lanczos')\n",
    "plt.xlim(x_lim)\n",
    "ax.set_xlabel('log10(T2)')\n",
    "ax.set_ylabel('log10(T1)')\n",
    "# T1 projection plot\n",
    "axr.plot(S.sum(1), y_)\n",
    "axr.set_ylabel('log10(T1)')\n",
    "# T2 projection plot\n",
    "axt.plot(x_, S.sum(0))\n",
    "axt.set_xlabel('log10(T2)')\n",
    "plt.show()"
   ]
  },
  {
   "cell_type": "code",
   "execution_count": null,
   "metadata": {},
   "outputs": [],
   "source": []
  }
 ],
 "metadata": {
  "kernelspec": {
   "display_name": "Python 3 (ipykernel)",
   "language": "python",
   "name": "python3"
  },
  "language_info": {
   "codemirror_mode": {
    "name": "ipython",
    "version": 3
   },
   "file_extension": ".py",
   "mimetype": "text/x-python",
   "name": "python",
   "nbconvert_exporter": "python",
   "pygments_lexer": "ipython3",
   "version": "3.10.12"
  }
 },
 "nbformat": 4,
 "nbformat_minor": 4
}
